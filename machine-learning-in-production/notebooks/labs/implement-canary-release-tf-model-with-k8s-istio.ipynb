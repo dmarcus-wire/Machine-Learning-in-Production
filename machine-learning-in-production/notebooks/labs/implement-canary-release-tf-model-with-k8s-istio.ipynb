{
 "cells": [
  {
   "cell_type": "markdown",
   "metadata": {
    "collapsed": true,
    "pycharm": {
     "name": "#%% md\n"
    }
   },
   "source": [
    "Summary of the tasks performed during the lab:\n",
    "\n",
    "- Creating a GKE cluster with Istio add-on\n",
    "- Deploying ResNet models using TensorFlow Servin\n",
    "- Configuring Istio Ingress gateway\n",
    "- Configuring Istio virtual services and destination rules\n",
    "- Configuring weight based routing\n",
    "- Configuring content based routing\n",
    "\n",
    "From : https://googlecoursera.qwiklabs.com/focuses/23290173?parent=lti_session"
   ]
  }
 ],
 "metadata": {
  "kernelspec": {
   "display_name": "Python 3",
   "language": "python",
   "name": "python3"
  },
  "language_info": {
   "codemirror_mode": {
    "name": "ipython",
    "version": 2
   },
   "file_extension": ".py",
   "mimetype": "text/x-python",
   "name": "python",
   "nbconvert_exporter": "python",
   "pygments_lexer": "ipython2",
   "version": "2.7.6"
  }
 },
 "nbformat": 4,
 "nbformat_minor": 0
}