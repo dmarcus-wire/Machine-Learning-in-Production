{
 "cells": [
  {
   "cell_type": "markdown",
   "metadata": {
    "collapsed": true,
    "pycharm": {
     "name": "#%% md\n"
    }
   },
   "source": [
    "Key points:\n",
    "- Understand Users\n",
    "- Translate user needs into data problems\n",
    "- Ensure data coverage\n",
    "- Ensure high predictive signals\n",
    "- Source, store and monitor quality data responsibly"
   ]
  },
  {
   "cell_type": "markdown",
   "source": [
    "# Collecting Data\n",
    "\n",
    "Key points:\n",
    "- Data availability\n",
    "- What kind?\n",
    "- How much is available?\n",
    "- How often does new data come in?\n",
    "- Is it annotated?\n",
    "\n",
    "## Example Dataset\n",
    "\n",
    "![image](./img/example_dataset.png)"
   ],
   "metadata": {
    "collapsed": false,
    "pycharm": {
     "name": "#%% md\n"
    }
   }
  }
 ],
 "metadata": {
  "kernelspec": {
   "display_name": "Python 3",
   "language": "python",
   "name": "python3"
  },
  "language_info": {
   "codemirror_mode": {
    "name": "ipython",
    "version": 2
   },
   "file_extension": ".py",
   "mimetype": "text/x-python",
   "name": "python",
   "nbconvert_exporter": "python",
   "pygments_lexer": "ipython2",
   "version": "2.7.6"
  }
 },
 "nbformat": 4,
 "nbformat_minor": 0
}